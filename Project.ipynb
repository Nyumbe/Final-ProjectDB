{
 "cells": [
  {
   "cell_type": "code",
   "execution_count": 6,
   "id": "e6332770",
   "metadata": {},
   "outputs": [],
   "source": [
    "import csv\n",
    "from cs50 import SQL\n",
    "open(\"Project.db\", \"w\").close()\n",
    "db=SQL(\"sqlite:///Project.db\")\n",
    "db.execute(\"CREATE TABLE Student(id INTEGER, StuName TEXT, age INT, sex TEXT,telephone INT, PRIMARY KEY(id))\")\n",
    "db.execute(\"CREATE TABLE Link(member_id INTEGER, faculty_id INTEGER, PRIMARY KEY(faculty_id), FOREIGN KEY(member_id) REFERENCES Student(id))\")\n",
    "db.execute(\"CREATE TABLE Faculty(RegNo INTEGER, Programme TEXT, Time INT, PRIMARY KEY(RegNo), FOREIGN KEY(RegNo) REFERENCES Link(faculty_id))\")\n",
    "db.execute(\"CREATE TABLE Finance(AccNo INTEGER, fees_id INT, Fees INT, PRIMARY KEY(AccNo), FOREIGN KEY(AccNo) REFERENCES Link(faculty_id))\")\n",
    "\n",
    "with open(\"School.csv\",  \"r\") as file:\n",
    "    reader = csv.DictReader(file)\n",
    "    for row in reader:\n",
    "        StuName = row[\"Name\"].strip().capitalize()\n",
    "        sex = row[\"Sex\"].strip().capitalize()\n",
    "        age = row[\"Age\"].strip().capitalize()\n",
    "        telephone = row[\"Moblie No\"].strip().capitalize()\n",
    "        Time = row[\"Year\"].strip().capitalize()\n",
    "        Programme = row[\"Academic Programme\"].strip().capitalize().split(\" , \")\n",
    "        id = db.execute(\"INSERT INTO Student (StuName, age, sex, telephone) VALUES(?, ?, ?, ?)\", StuName,age,sex,telephone)\n",
    "        #for Programme in row[\"Academic Programme\"].split(\", \"):\n",
    "           # Programme=Programme.strip().capitalize()\n",
    "       \n",
    "        id1=db.execute(\"INSERT INTO Link(member_id) VALUES((SELECT id FROM Student WHERE StuName=?))\" , StuName)\n",
    "        db.execute(\"INSERT INTO Faculty (RegNo, Programme,Time) VALUES((SELECT member_id FROM Link WHERE member_id=?),?,?)\" , id1, Programme,Time)\n",
    "            #Finance section\n",
    "        for Fees in row[\"Tution\"].split(\" , \"):\n",
    "            Fees = Fees.strip().capitalize()\n",
    "            db.execute(\"INSERT INTO Finance(AccNo,Fees) VALUES((SELECT member_id FROM Link WHERE member_id=?),?)\", id1, Fees)"
   ]
  },
  {
   "cell_type": "code",
   "execution_count": null,
   "id": "4a6d35ed",
   "metadata": {},
   "outputs": [],
   "source": []
  },
  {
   "cell_type": "code",
   "execution_count": null,
   "id": "62b60b8f",
   "metadata": {},
   "outputs": [],
   "source": []
  }
 ],
 "metadata": {
  "kernelspec": {
   "display_name": "Python 3 (ipykernel)",
   "language": "python",
   "name": "python3"
  },
  "language_info": {
   "codemirror_mode": {
    "name": "ipython",
    "version": 3
   },
   "file_extension": ".py",
   "mimetype": "text/x-python",
   "name": "python",
   "nbconvert_exporter": "python",
   "pygments_lexer": "ipython3",
   "version": "3.10.4"
  }
 },
 "nbformat": 4,
 "nbformat_minor": 5
}
